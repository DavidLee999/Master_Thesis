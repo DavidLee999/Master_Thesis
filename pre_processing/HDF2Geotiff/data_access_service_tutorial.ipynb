{
 "cells": [
  {
   "cell_type": "markdown",
   "metadata": {},
   "source": [
    "## <u>Accessing Land MODIS Data from the LP DAAC Archive using Web Services</u>"
   ]
  },
  {
   "cell_type": "markdown",
   "metadata": {},
   "source": [
    "---"
   ]
  },
  {
   "cell_type": "markdown",
   "metadata": {},
   "source": [
    "To improve access to, and effective utilization of NASA Earth Science data, the Land Processes Distributed Active Archive Center (LP DAAC) has made its collection of tiled land MODIS data sets available for access via OPeNDAP (Open-source Project for a Network Data Access Protocol). As a result, land MODIS data and metadata can be accessed using web services. This tutorial will demonstrate how to use LP DAAC's web services to:\n",
    "* get land MODIS product information\n",
    "* get band/layer information from land MODIS products\n",
    "* extract and plot time series data from a land MODIS product layer for a single point location"
   ]
  },
  {
   "cell_type": "markdown",
   "metadata": {},
   "source": [
    "**Required Packages**\n",
    "* requests (http://docs.python-requests.org/en/latest/)\n",
    "* pandas (http://pandas.pydata.org/)\n",
    "* matplotlib (http://matplotlib.org/)"
   ]
  },
  {
   "cell_type": "markdown",
   "metadata": {},
   "source": [
    "**NOTE** \n",
    "* This script has been tested and verified using Windows 7 \n",
    "* Users of this tutorial will need to be connected to the internet in order to successfully execute the python code.\n",
    "* This script was tested using Python 3.4 and Python 2.7. "
   ]
  },
  {
   "cell_type": "markdown",
   "metadata": {},
   "source": [
    "---"
   ]
  },
  {
   "cell_type": "markdown",
   "metadata": {},
   "source": [
    "## Get information about available MODIS products and layers."
   ]
  },
  {
   "cell_type": "code",
   "execution_count": 1,
   "metadata": {
    "collapsed": false
   },
   "outputs": [],
   "source": [
    "import requests"
   ]
  },
  {
   "cell_type": "markdown",
   "metadata": {},
   "source": [
    "#### <em>Set LP DAAC services URL.</em>"
   ]
  },
  {
   "cell_type": "code",
   "execution_count": 2,
   "metadata": {
    "collapsed": true
   },
   "outputs": [],
   "source": [
    "SERVICES_URL = 'https://lpdaacsvc.cr.usgs.gov/services/appeears-api'"
   ]
  },
  {
   "cell_type": "markdown",
   "metadata": {},
   "source": [
    "### <em>Request a list of the available land MODIS products.</em>"
   ]
  },
  {
   "cell_type": "code",
   "execution_count": 3,
   "metadata": {
    "collapsed": false
   },
   "outputs": [
    {
     "data": {
      "text/plain": [
       "'Information was found for 100 products!'"
      ]
     },
     "execution_count": 3,
     "metadata": {},
     "output_type": "execute_result"
    }
   ],
   "source": [
    "products_req = requests.get('%s/product?rasterType=tile&format=json' %(SERVICES_URL))\n",
    "products = products_req.json()\n",
    "\n",
    "'Information was found for {0} products!'.format(len(products))"
   ]
  },
  {
   "cell_type": "markdown",
   "metadata": {},
   "source": [
    "#### Take a look at what was returned. Print a list of available Terra MODIS (MOD) products.\n",
    "**NOTE**: Can substitute 'MOD' with 'MYD' or 'MCD' to print Aqua MODIS or Combined products respectively."
   ]
  },
  {
   "cell_type": "code",
   "execution_count": 4,
   "metadata": {
    "collapsed": false
   },
   "outputs": [
    {
     "data": {
      "text/plain": [
       "[{'Available': True,\n",
       "  'Description': 'Surface Reflectance Bands 1-7',\n",
       "  'DocLink': 'https://lpdaac.usgs.gov/dataset_discovery/modis/modis_products_table/mod09a1',\n",
       "  'Platform': 'Terra MODIS',\n",
       "  'Product': 'MOD09A1',\n",
       "  'ProductAndVersion': 'MOD09A1.005',\n",
       "  'RasterType': 'Tile',\n",
       "  'Resolution': '500m',\n",
       "  'Source': 'LP DAAC',\n",
       "  'TemporalGranularity': '8 day',\n",
       "  'Version': '005'},\n",
       " {'Available': True,\n",
       "  'Description': 'Reflectance',\n",
       "  'DocLink': 'https://lpdaac.usgs.gov/dataset_discovery/modis/modis_products_table/mod09a1_v006',\n",
       "  'Platform': 'Terra MODIS',\n",
       "  'Product': 'MOD09A1',\n",
       "  'ProductAndVersion': 'MOD09A1.006',\n",
       "  'RasterType': 'Tile',\n",
       "  'Resolution': '500m',\n",
       "  'Source': 'LP DAAC',\n",
       "  'TemporalGranularity': '8 day',\n",
       "  'Version': '006'}]"
      ]
     },
     "execution_count": 4,
     "metadata": {},
     "output_type": "execute_result"
    }
   ],
   "source": [
    "[p for p in products if \"MOD\" in p['Product']][0:2]"
   ]
  },
  {
   "cell_type": "markdown",
   "metadata": {},
   "source": [
    "**NOTE**: You can also use python slicing (e.g., products[10:16]) to get the returned product information"
   ]
  },
  {
   "cell_type": "markdown",
   "metadata": {},
   "source": [
    "#### Pull MOD11A1.005 (Land Surface Temperature & Emmissivity) from the product list."
   ]
  },
  {
   "cell_type": "code",
   "execution_count": 5,
   "metadata": {
    "collapsed": false
   },
   "outputs": [
    {
     "data": {
      "text/plain": [
       "{'Available': True,\n",
       " 'Description': 'Land Surface Temperature & Emissivity',\n",
       " 'DocLink': 'https://lpdaac.usgs.gov/dataset_discovery/modis/modis_products_table/mod11a1',\n",
       " 'Platform': 'Terra MODIS',\n",
       " 'Product': 'MOD11A1',\n",
       " 'ProductAndVersion': 'MOD11A1.005',\n",
       " 'RasterType': 'Tile',\n",
       " 'Resolution': '1000m',\n",
       " 'Source': 'LP DAAC',\n",
       " 'TemporalGranularity': 'Daily',\n",
       " 'Version': '005'}"
      ]
     },
     "execution_count": 5,
     "metadata": {},
     "output_type": "execute_result"
    }
   ],
   "source": [
    "product = next(p for p in products if p['ProductAndVersion'] == 'MOD11A1.005')\n",
    "product"
   ]
  },
  {
   "cell_type": "markdown",
   "metadata": {},
   "source": [
    "#### Get layer information for a product of interest. In this case, layer information is requested for MOD11A1.005."
   ]
  },
  {
   "cell_type": "code",
   "execution_count": 6,
   "metadata": {
    "collapsed": false
   },
   "outputs": [
    {
     "data": {
      "text/plain": [
       "'This product contains 12 layers'"
      ]
     },
     "execution_count": 6,
     "metadata": {},
     "output_type": "execute_result"
    }
   ],
   "source": [
    "product_layers_req = requests.get('%s/product/%s?format=json' %(SERVICES_URL, product['ProductAndVersion']))\n",
    "product_layers = product_layers_req.json()\n",
    "'This product contains {0} layers'.format(len(product_layers))"
   ]
  },
  {
   "cell_type": "markdown",
   "metadata": {},
   "source": [
    "##### Take a look at some layers returned for MOD11A1.005 using python slicing."
   ]
  },
  {
   "cell_type": "code",
   "execution_count": 7,
   "metadata": {
    "collapsed": false
   },
   "outputs": [
    {
     "name": "stdout",
     "output_type": "stream",
     "text": [
      "LST_Night_1km\n",
      "LST_Day_1km\n",
      "Night_view_angl\n",
      "Day_view_angl\n",
      "Clear_day_cov\n",
      "QC_Day\n",
      "Emis_31\n",
      "QC_Night\n",
      "Emis_32\n",
      "Night_view_time\n",
      "Day_view_time\n",
      "Clear_night_cov\n"
     ]
    }
   ],
   "source": [
    "for k in product_layers.keys():\n",
    "    print(k)"
   ]
  },
  {
   "cell_type": "markdown",
   "metadata": {},
   "source": [
    "##### Pull out the daytime land surface temperature (LST_Day_1km) layer from the layer list."
   ]
  },
  {
   "cell_type": "code",
   "execution_count": 8,
   "metadata": {
    "collapsed": false
   },
   "outputs": [
    {
     "data": {
      "text/plain": [
       "{'Available': True,\n",
       " 'DataType': 'float32',\n",
       " 'Description': 'Daily daytime 1km grid Land-surface Temperature',\n",
       " 'Dimensions': ['time', 'YDim', 'XDim'],\n",
       " 'FillValue': 0.0,\n",
       " 'Layer': 'LST_Day_1km',\n",
       " 'OrigDataType': 'uint16',\n",
       " 'QualityLayers': \"['QC_Day']\",\n",
       " 'QualityProductAndVersion': 'MOD11A1.005',\n",
       " 'ValidMax': 1310.699951,\n",
       " 'ValidMin': 150.0,\n",
       " 'XSize': 1200,\n",
       " 'YSize': 1200}"
      ]
     },
     "execution_count": 8,
     "metadata": {},
     "output_type": "execute_result"
    }
   ],
   "source": [
    "product_layer = product_layers['LST_Day_1km']\n",
    "product_layer"
   ]
  },
  {
   "cell_type": "markdown",
   "metadata": {},
   "source": [
    "###### Get the layer name."
   ]
  },
  {
   "cell_type": "code",
   "execution_count": 9,
   "metadata": {
    "collapsed": false
   },
   "outputs": [
    {
     "data": {
      "text/plain": [
       "'LST_Day_1km'"
      ]
     },
     "execution_count": 9,
     "metadata": {},
     "output_type": "execute_result"
    }
   ],
   "source": [
    "product_layer['Layer']"
   ]
  },
  {
   "cell_type": "markdown",
   "metadata": {},
   "source": [
    "###### Get the quality layer name."
   ]
  },
  {
   "cell_type": "code",
   "execution_count": 10,
   "metadata": {
    "collapsed": false
   },
   "outputs": [
    {
     "data": {
      "text/plain": [
       "\"['QC_Day']\""
      ]
     },
     "execution_count": 10,
     "metadata": {},
     "output_type": "execute_result"
    }
   ],
   "source": [
    "product_layer['QualityLayers']"
   ]
  },
  {
   "cell_type": "markdown",
   "metadata": {},
   "source": [
    "---"
   ]
  },
  {
   "cell_type": "markdown",
   "metadata": {},
   "source": [
    "## Use the LP DAAC's sample service to extract land MODIS data."
   ]
  },
  {
   "cell_type": "markdown",
   "metadata": {},
   "source": [
    "### Extract daily Land Surface Temperature (LST) data from the MOD11A1.005 product for a point location. "
   ]
  },
  {
   "cell_type": "markdown",
   "metadata": {},
   "source": [
    "##### Specify the latitude and longitude for a point of interest."
   ]
  },
  {
   "cell_type": "code",
   "execution_count": 11,
   "metadata": {
    "collapsed": true
   },
   "outputs": [],
   "source": [
    "latitude, longitude = '45.50894', '-89.58637'"
   ]
  },
  {
   "cell_type": "markdown",
   "metadata": {},
   "source": [
    "##### Create a variable containing the URL to the sample service."
   ]
  },
  {
   "cell_type": "code",
   "execution_count": 12,
   "metadata": {
    "collapsed": true
   },
   "outputs": [],
   "source": [
    "sample_url = '{0}/sample?'.format(SERVICES_URL)"
   ]
  },
  {
   "cell_type": "markdown",
   "metadata": {},
   "source": [
    "##### The sample service requires the following arguments: the MODIS product (e.g., MOD11A1.005), the product layer (e.g., LST_Day_1km), a start and end date, the point location (i.e., latitude and longitude), and the format of the returned data (we only support json at this time).\n",
    "**NOTE**: MODIS products requested through the sample service are specified using the product and version (e.g., MOD11A1.005)"
   ]
  },
  {
   "cell_type": "code",
   "execution_count": 13,
   "metadata": {
    "collapsed": true
   },
   "outputs": [],
   "source": [
    "sample_args = {\n",
    "    'product': product['ProductAndVersion'],\n",
    "    'layer': product_layer['Layer'],\n",
    "    'startdate': '03-01-2005',\n",
    "    'enddate': '09-01-2005',\n",
    "    'coordinate': '{0},{1}'.format(latitude, longitude),\n",
    "    'format': 'json'\n",
    "}"
   ]
  },
  {
   "cell_type": "markdown",
   "metadata": {},
   "source": [
    "##### Use the sample service to make the data request for the point of interest.\n",
    "**NOTE**: Completion time will vary depending on the date range requested and/or on the temporal resolution of the data set"
   ]
  },
  {
   "cell_type": "code",
   "execution_count": 14,
   "metadata": {
    "collapsed": true
   },
   "outputs": [],
   "source": [
    "sample_req = requests.get(sample_url, params = sample_args)"
   ]
  },
  {
   "cell_type": "markdown",
   "metadata": {},
   "source": [
    "**NOTE**: As with most things in python, there are many ways to assemble the arguments for an HTTP request. One can get the same information back by simply passing the fully constructed URL, with parameters, to the requests.get() command (e.g., sample_req = requests.get('https://lpdaacsvc.cr.usgs.gov/api/sample?product=MOD11A1.005&layer=LST_Day_1km&startdate=03-01-2005&enddate=09-01-2005&coordinate=45.50894,-89.58637&format=json')."
   ]
  },
  {
   "cell_type": "markdown",
   "metadata": {},
   "source": [
    "##### Print a subset of the returned data."
   ]
  },
  {
   "cell_type": "code",
   "execution_count": 15,
   "metadata": {
    "collapsed": false
   },
   "outputs": [
    {
     "data": {
      "text/plain": [
       "[{'Date': '2005-03-01T00:00:00.000Z',\n",
       "  'Latitude': 45.50894,\n",
       "  'Longitude': -89.58637,\n",
       "  'MOD11A1_005_LST_Day_1km': 0.0,\n",
       "  'MOD11A1_005_Line_Y_1km': 538,\n",
       "  'MOD11A1_005_QC_Day': 2,\n",
       "  'MOD11A1_005_QC_Day_MODLAND': 2,\n",
       "  'MOD11A1_005_QC_Day_MODLAND_DESC': 'LST not produced due to cloud effects',\n",
       "  'MOD11A1_005_Sample_X_1km': 866,\n",
       "  'MODIS_Tile': 'h11v04'},\n",
       " {'Date': '2005-03-02T00:00:00.000Z',\n",
       "  'Latitude': 45.50894,\n",
       "  'Longitude': -89.58637,\n",
       "  'MOD11A1_005_LST_Day_1km': 0.0,\n",
       "  'MOD11A1_005_Line_Y_1km': 538,\n",
       "  'MOD11A1_005_QC_Day': 2,\n",
       "  'MOD11A1_005_QC_Day_MODLAND': 2,\n",
       "  'MOD11A1_005_QC_Day_MODLAND_DESC': 'LST not produced due to cloud effects',\n",
       "  'MOD11A1_005_Sample_X_1km': 866,\n",
       "  'MODIS_Tile': 'h11v04'},\n",
       " {'Date': '2005-03-03T00:00:00.000Z',\n",
       "  'Latitude': 45.50894,\n",
       "  'Longitude': -89.58637,\n",
       "  'MOD11A1_005_LST_Day_1km': 263.79998779296875,\n",
       "  'MOD11A1_005_Line_Y_1km': 538,\n",
       "  'MOD11A1_005_QC_Day': 0,\n",
       "  'MOD11A1_005_QC_Day_MODLAND': 0,\n",
       "  'MOD11A1_005_QC_Day_MODLAND_DESC': 'LST produced, good quality, not necessary to examine detailed QA',\n",
       "  'MOD11A1_005_Sample_X_1km': 866,\n",
       "  'MODIS_Tile': 'h11v04'}]"
      ]
     },
     "execution_count": 15,
     "metadata": {},
     "output_type": "execute_result"
    }
   ],
   "source": [
    "samples = sample_req.json()\n",
    "samples[0:3]"
   ]
  },
  {
   "cell_type": "markdown",
   "metadata": {},
   "source": [
    "---"
   ]
  },
  {
   "cell_type": "markdown",
   "metadata": {},
   "source": [
    "## Explore the MODIS LST data."
   ]
  },
  {
   "cell_type": "markdown",
   "metadata": {},
   "source": [
    "#### Convert returned data to a pandas dataframe."
   ]
  },
  {
   "cell_type": "code",
   "execution_count": 16,
   "metadata": {
    "collapsed": false
   },
   "outputs": [],
   "source": [
    "import pandas as pd\n",
    "lstData = pd.DataFrame.from_dict(samples)"
   ]
  },
  {
   "cell_type": "markdown",
   "metadata": {},
   "source": [
    "###### Get dataframe information."
   ]
  },
  {
   "cell_type": "code",
   "execution_count": 17,
   "metadata": {
    "collapsed": false
   },
   "outputs": [
    {
     "name": "stdout",
     "output_type": "stream",
     "text": [
      "<class 'pandas.core.frame.DataFrame'>\n",
      "Int64Index: 185 entries, 0 to 184\n",
      "Data columns (total 10 columns):\n",
      "Date                               185 non-null object\n",
      "Latitude                           185 non-null float64\n",
      "Longitude                          185 non-null float64\n",
      "MOD11A1_005_LST_Day_1km            185 non-null float64\n",
      "MOD11A1_005_Line_Y_1km             185 non-null int64\n",
      "MOD11A1_005_QC_Day                 185 non-null int64\n",
      "MOD11A1_005_QC_Day_MODLAND         185 non-null int64\n",
      "MOD11A1_005_QC_Day_MODLAND_DESC    185 non-null object\n",
      "MOD11A1_005_Sample_X_1km           185 non-null int64\n",
      "MODIS_Tile                         185 non-null object\n",
      "dtypes: float64(3), int64(4), object(3)\n",
      "memory usage: 15.9+ KB\n"
     ]
    }
   ],
   "source": [
    "lstData.info()"
   ]
  },
  {
   "cell_type": "markdown",
   "metadata": {},
   "source": [
    "###### Take a look at the first 5 records in the dataframe."
   ]
  },
  {
   "cell_type": "code",
   "execution_count": 18,
   "metadata": {
    "collapsed": false
   },
   "outputs": [
    {
     "data": {
      "text/html": [
       "<div>\n",
       "<table border=\"1\" class=\"dataframe\">\n",
       "  <thead>\n",
       "    <tr style=\"text-align: right;\">\n",
       "      <th></th>\n",
       "      <th>Date</th>\n",
       "      <th>Latitude</th>\n",
       "      <th>Longitude</th>\n",
       "      <th>MOD11A1_005_LST_Day_1km</th>\n",
       "      <th>MOD11A1_005_Line_Y_1km</th>\n",
       "      <th>MOD11A1_005_QC_Day</th>\n",
       "      <th>MOD11A1_005_QC_Day_MODLAND</th>\n",
       "      <th>MOD11A1_005_QC_Day_MODLAND_DESC</th>\n",
       "      <th>MOD11A1_005_Sample_X_1km</th>\n",
       "      <th>MODIS_Tile</th>\n",
       "    </tr>\n",
       "  </thead>\n",
       "  <tbody>\n",
       "    <tr>\n",
       "      <th>0</th>\n",
       "      <td>2005-03-01T00:00:00.000Z</td>\n",
       "      <td>45.50894</td>\n",
       "      <td>-89.58637</td>\n",
       "      <td>0.000000</td>\n",
       "      <td>538</td>\n",
       "      <td>2</td>\n",
       "      <td>2</td>\n",
       "      <td>LST not produced due to cloud effects</td>\n",
       "      <td>866</td>\n",
       "      <td>h11v04</td>\n",
       "    </tr>\n",
       "    <tr>\n",
       "      <th>1</th>\n",
       "      <td>2005-03-02T00:00:00.000Z</td>\n",
       "      <td>45.50894</td>\n",
       "      <td>-89.58637</td>\n",
       "      <td>0.000000</td>\n",
       "      <td>538</td>\n",
       "      <td>2</td>\n",
       "      <td>2</td>\n",
       "      <td>LST not produced due to cloud effects</td>\n",
       "      <td>866</td>\n",
       "      <td>h11v04</td>\n",
       "    </tr>\n",
       "    <tr>\n",
       "      <th>2</th>\n",
       "      <td>2005-03-03T00:00:00.000Z</td>\n",
       "      <td>45.50894</td>\n",
       "      <td>-89.58637</td>\n",
       "      <td>263.799988</td>\n",
       "      <td>538</td>\n",
       "      <td>0</td>\n",
       "      <td>0</td>\n",
       "      <td>LST produced, good quality, not necessary to e...</td>\n",
       "      <td>866</td>\n",
       "      <td>h11v04</td>\n",
       "    </tr>\n",
       "    <tr>\n",
       "      <th>3</th>\n",
       "      <td>2005-03-04T00:00:00.000Z</td>\n",
       "      <td>45.50894</td>\n",
       "      <td>-89.58637</td>\n",
       "      <td>0.000000</td>\n",
       "      <td>538</td>\n",
       "      <td>2</td>\n",
       "      <td>2</td>\n",
       "      <td>LST not produced due to cloud effects</td>\n",
       "      <td>866</td>\n",
       "      <td>h11v04</td>\n",
       "    </tr>\n",
       "    <tr>\n",
       "      <th>4</th>\n",
       "      <td>2005-03-05T00:00:00.000Z</td>\n",
       "      <td>45.50894</td>\n",
       "      <td>-89.58637</td>\n",
       "      <td>273.440002</td>\n",
       "      <td>538</td>\n",
       "      <td>65</td>\n",
       "      <td>1</td>\n",
       "      <td>LST produced, unreliable or unquantifiable qua...</td>\n",
       "      <td>866</td>\n",
       "      <td>h11v04</td>\n",
       "    </tr>\n",
       "  </tbody>\n",
       "</table>\n",
       "</div>"
      ],
      "text/plain": [
       "                       Date  Latitude  Longitude  MOD11A1_005_LST_Day_1km  \\\n",
       "0  2005-03-01T00:00:00.000Z  45.50894  -89.58637                 0.000000   \n",
       "1  2005-03-02T00:00:00.000Z  45.50894  -89.58637                 0.000000   \n",
       "2  2005-03-03T00:00:00.000Z  45.50894  -89.58637               263.799988   \n",
       "3  2005-03-04T00:00:00.000Z  45.50894  -89.58637                 0.000000   \n",
       "4  2005-03-05T00:00:00.000Z  45.50894  -89.58637               273.440002   \n",
       "\n",
       "   MOD11A1_005_Line_Y_1km  MOD11A1_005_QC_Day  MOD11A1_005_QC_Day_MODLAND  \\\n",
       "0                     538                   2                           2   \n",
       "1                     538                   2                           2   \n",
       "2                     538                   0                           0   \n",
       "3                     538                   2                           2   \n",
       "4                     538                  65                           1   \n",
       "\n",
       "                     MOD11A1_005_QC_Day_MODLAND_DESC  \\\n",
       "0              LST not produced due to cloud effects   \n",
       "1              LST not produced due to cloud effects   \n",
       "2  LST produced, good quality, not necessary to e...   \n",
       "3              LST not produced due to cloud effects   \n",
       "4  LST produced, unreliable or unquantifiable qua...   \n",
       "\n",
       "   MOD11A1_005_Sample_X_1km MODIS_Tile  \n",
       "0                       866     h11v04  \n",
       "1                       866     h11v04  \n",
       "2                       866     h11v04  \n",
       "3                       866     h11v04  \n",
       "4                       866     h11v04  "
      ]
     },
     "execution_count": 18,
     "metadata": {},
     "output_type": "execute_result"
    }
   ],
   "source": [
    "lstData.head()"
   ]
  },
  {
   "cell_type": "markdown",
   "metadata": {},
   "source": [
    "#### <em>Plot returned data, including no data records.</em>\n",
    "**NOTE**: No data records for MOD11A1_005_LST_Day_1km are assigned as '0'"
   ]
  },
  {
   "cell_type": "code",
   "execution_count": 19,
   "metadata": {
    "collapsed": false
   },
   "outputs": [
    {
     "data": {
      "text/plain": [
       "<matplotlib.axes._subplots.AxesSubplot at 0x8a1a668>"
      ]
     },
     "execution_count": 19,
     "metadata": {},
     "output_type": "execute_result"
    },
    {
     "data": {
      "image/png": "[encoded data removed]",
      "text/plain": [
       "<matplotlib.figure.Figure at 0x813b390>"
      ]
     },
     "metadata": {},
     "output_type": "display_data"
    }
   ],
   "source": [
    "import matplotlib.pyplot as plt\n",
    "%matplotlib inline\n",
    "\n",
    "lstData['MOD11A1_005_LST_Day_1km'].plot(kind='line', color='red')"
   ]
  },
  {
   "cell_type": "markdown",
   "metadata": {},
   "source": [
    "#### <em>Plot returned data, excluding no data records.</em>"
   ]
  },
  {
   "cell_type": "code",
   "execution_count": 20,
   "metadata": {
    "collapsed": false
   },
   "outputs": [
    {
     "data": {
      "text/plain": [
       "<matplotlib.axes._subplots.AxesSubplot at 0x8a469e8>"
      ]
     },
     "execution_count": 20,
     "metadata": {},
     "output_type": "execute_result"
    },
    {
     "data": {
      "image/png": "[encoded data removed]",
      "text/plain": [
       "<matplotlib.figure.Figure at 0x8a520b8>"
      ]
     },
     "metadata": {},
     "output_type": "display_data"
    }
   ],
   "source": [
    "lstData[lstData['MOD11A1_005_LST_Day_1km'] > 0]['MOD11A1_005_LST_Day_1km'].plot(kind='line', color='blue')"
   ]
  }
 ],
 "metadata": {
  "kernelspec": {
   "display_name": "Python 3",
   "language": "python",
   "name": "python3"
  },
  "language_info": {
   "codemirror_mode": {
    "name": "ipython",
    "version": 3
   },
   "file_extension": ".py",
   "mimetype": "text/x-python",
   "name": "python",
   "nbconvert_exporter": "python",
   "pygments_lexer": "ipython3",
   "version": "3.4.5"
  }
 },
 "nbformat": 4,
 "nbformat_minor": 0
}
